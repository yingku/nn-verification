{
 "cells": [
  {
   "cell_type": "code",
   "execution_count": 1,
   "metadata": {},
   "outputs": [
    {
     "name": "stdout",
     "output_type": "stream",
     "text": [
      "WARNING:tensorflow:From /home/nathan/Programming/python/nn-verification/venv/lib/python2.7/site-packages/tensorflow/python/compat/compat.py:175: disable_resource_variables (from tensorflow.python.ops.variable_scope) is deprecated and will be removed in a future version.\n",
      "Instructions for updating:\n",
      "non-resource variables are not supported in the long term\n"
     ]
    },
    {
     "name": "stderr",
     "output_type": "stream",
     "text": [
      "MarabouRepo/maraboupy/Marabou.py:31: UserWarning: ONNX parser is unavailable because onnx or onnxruntime packages are not installed\n",
      "  warnings.warn(\"ONNX parser is unavailable because onnx or onnxruntime packages are not installed\")\n"
     ]
    }
   ],
   "source": [
    "from MarabouRepo.maraboupy import Marabou, MarabouNetworkNNet"
   ]
  },
  {
   "cell_type": "code",
   "execution_count": 2,
   "metadata": {},
   "outputs": [],
   "source": [
    "def kill_node(layer, index, net):\n",
    "    # type: (int, int, MarabouNetworkNNet) -> bool\n",
    "    \"\"\"\n",
    "    Sets all weights into the node at `index` in `layer` to 0. Modifies `net`.\n",
    "    \"\"\"\n",
    "    weights_into_node = net.weights[layer][index]\n",
    "    for i, _weight in enumerate(weights_into_node):\n",
    "        net.weights[layer][index][i] = 0\n",
    "\n",
    "\n",
    "def do_outputs_differ(net1, net2):\n",
    "    # type: (MarabouNetworkNNet, MarabouNetworkNNet) -> bool\n",
    "    \"\"\"\n",
    "    Tries to determine if the outputs of the networks differ\n",
    "    \"\"\"\n",
    "    print(net1.evaluateNNet([0 for i in range(189)]))\n",
    "    print(net2.evaluateNNet([0 for i in range(189)]))\n",
    "    return False"
   ]
  },
  {
   "cell_type": "code",
   "execution_count": 3,
   "metadata": {},
   "outputs": [],
   "source": [
    "net1 = Marabou.read_nnet(\"TL4HDR/Result/ccsa_transfer_0.model\")\n",
    "net2 = Marabou.read_nnet(\"TL4HDR/Result/ccsa_transfer_0.model\")"
   ]
  },
  {
   "cell_type": "code",
   "execution_count": 4,
   "metadata": {},
   "outputs": [],
   "source": [
    "net1.setLowerBound(net1.outputVars[0][0][0], .5)"
   ]
  },
  {
   "cell_type": "code",
   "execution_count": 5,
   "metadata": {},
   "outputs": [
    {
     "name": "stdout",
     "output_type": "stream",
     "text": [
      "[-0.436403    0.89601494]\n",
      "[-0.83823661  0.89601494]\n"
     ]
    },
    {
     "data": {
      "text/plain": [
       "False"
      ]
     },
     "execution_count": 5,
     "metadata": {},
     "output_type": "execute_result"
    }
   ],
   "source": [
    "kill_node(1, 0, net1)\n",
    "do_outputs_differ(net1, net2)\n",
    "# exitCode, vals1, stats1 = net.solve()"
   ]
  },
  {
   "cell_type": "code",
   "execution_count": null,
   "metadata": {},
   "outputs": [],
   "source": []
  }
 ],
 "metadata": {
  "kernelspec": {
   "display_name": "Python 2",
   "language": "python",
   "name": "python2"
  },
  "language_info": {
   "codemirror_mode": {
    "name": "ipython",
    "version": 2
   },
   "file_extension": ".py",
   "mimetype": "text/x-python",
   "name": "python",
   "nbconvert_exporter": "python",
   "pygments_lexer": "ipython2",
   "version": "2.7.18"
  }
 },
 "nbformat": 4,
 "nbformat_minor": 2
}
