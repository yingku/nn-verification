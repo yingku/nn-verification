{
 "cells": [
  {
   "cell_type": "code",
   "execution_count": 1,
   "metadata": {},
   "outputs": [
    {
     "name": "stdout",
     "output_type": "stream",
     "text": [
      "WARNING:tensorflow:From /home/nathan/Programming/python/nn-verification/venv/lib/python2.7/site-packages/tensorflow/python/compat/compat.py:175: disable_resource_variables (from tensorflow.python.ops.variable_scope) is deprecated and will be removed in a future version.\n",
      "Instructions for updating:\n",
      "non-resource variables are not supported in the long term\n"
     ]
    },
    {
     "name": "stderr",
     "output_type": "stream",
     "text": [
      "MarabouRepo/maraboupy/Marabou.py:31: UserWarning: ONNX parser is unavailable because onnx or onnxruntime packages are not installed\n",
      "  warnings.warn(\"ONNX parser is unavailable because onnx or onnxruntime packages are not installed\")\n"
     ]
    }
   ],
   "source": [
    "from MarabouRepo.maraboupy import Marabou, MarabouNetworkNNet\n",
    "import itertools"
   ]
  },
  {
   "cell_type": "code",
   "execution_count": 2,
   "metadata": {},
   "outputs": [],
   "source": [
    "def kill_node(layer, index, net):\n",
    "    # type: (int, int, MarabouNetworkNNet) -> bool\n",
    "    \"\"\"\n",
    "    Sets all weights into the node at `index` in `layer` to 0. Modifies `net`.\n",
    "    \"\"\"\n",
    "    weights_into_node = net.weights[layer][index]\n",
    "    for i, _weight in enumerate(weights_into_node):\n",
    "        net.weights[layer][index][i] = 0\n",
    "\n",
    "\n",
    "def do_outputs_differ(net1, net2):\n",
    "    # type: (MarabouNetworkNNet, MarabouNetworkNNet) -> bool\n",
    "    \"\"\"\n",
    "    Tries to determine if the outputs of the networks differ\n",
    "    \"\"\"\n",
    "    print(net1.evaluateNNet([0 for i in range(189)]))\n",
    "    print(net2.evaluateNNet([0 for i in range(189)]))\n",
    "    return False\n",
    "\n",
    "\n",
    "def find_subsets_just_over_half(layer, net):\n",
    "    # type: (int, MarabouNetworkNNet) -> iterable[int]\n",
    "    layer_size = len(net.weights[layer])\n",
    "    print(layer_size)\n",
    "    just_over_half = (layer_size + 1) // 2\n",
    "#     return itertools.combinations(range(layer_size), just_over_half)"
   ]
  },
  {
   "cell_type": "code",
   "execution_count": 3,
   "metadata": {
    "scrolled": true
   },
   "outputs": [
    {
     "name": "stdout",
     "output_type": "stream",
     "text": [
      "100\n"
     ]
    },
    {
     "ename": "TypeError",
     "evalue": "'NoneType' object is not iterable",
     "output_type": "error",
     "traceback": [
      "\u001b[0;31m---------------------------------------------------------------------------\u001b[0m",
      "\u001b[0;31mTypeError\u001b[0m                                 Traceback (most recent call last)",
      "\u001b[0;32m<ipython-input-3-28a3cb59b448>\u001b[0m in \u001b[0;36m<module>\u001b[0;34m()\u001b[0m\n\u001b[1;32m      2\u001b[0m \u001b[0mnet2\u001b[0m \u001b[0;34m=\u001b[0m \u001b[0mMarabou\u001b[0m\u001b[0;34m.\u001b[0m\u001b[0mread_nnet\u001b[0m\u001b[0;34m(\u001b[0m\u001b[0;34m\"TL4HDR/Result/ccsa_transfer_0.model\"\u001b[0m\u001b[0;34m)\u001b[0m\u001b[0;34m\u001b[0m\u001b[0m\n\u001b[1;32m      3\u001b[0m \u001b[0;34m\u001b[0m\u001b[0m\n\u001b[0;32m----> 4\u001b[0;31m \u001b[0mlist\u001b[0m\u001b[0;34m(\u001b[0m\u001b[0mfind_subsets_just_over_half\u001b[0m\u001b[0;34m(\u001b[0m\u001b[0;36m0\u001b[0m\u001b[0;34m,\u001b[0m \u001b[0mnet1\u001b[0m\u001b[0;34m)\u001b[0m\u001b[0;34m)\u001b[0m\u001b[0;34m\u001b[0m\u001b[0m\n\u001b[0m",
      "\u001b[0;31mTypeError\u001b[0m: 'NoneType' object is not iterable"
     ]
    }
   ],
   "source": [
    "net1 = Marabou.read_nnet(\"TL4HDR/Result/ccsa_transfer_0.model\")\n",
    "net2 = Marabou.read_nnet(\"TL4HDR/Result/ccsa_transfer_0.model\")\n",
    "\n",
    "list(find_subsets_just_over_half(0, net1))"
   ]
  },
  {
   "cell_type": "code",
   "execution_count": null,
   "metadata": {},
   "outputs": [],
   "source": [
    "# net1.setLowerBound(net1.outputVars[0][0][0], .5)"
   ]
  },
  {
   "cell_type": "code",
   "execution_count": null,
   "metadata": {},
   "outputs": [],
   "source": [
    "# kill_node(1, 0, net1)\n",
    "# do_outputs_differ(net1, net2)\n",
    "# exitCode, vals1, stats1 = net.solve()"
   ]
  },
  {
   "cell_type": "code",
   "execution_count": null,
   "metadata": {},
   "outputs": [],
   "source": []
  }
 ],
 "metadata": {
  "kernelspec": {
   "display_name": "Python 2",
   "language": "python",
   "name": "python2"
  },
  "language_info": {
   "codemirror_mode": {
    "name": "ipython",
    "version": 2
   },
   "file_extension": ".py",
   "mimetype": "text/x-python",
   "name": "python",
   "nbconvert_exporter": "python",
   "pygments_lexer": "ipython2",
   "version": "2.7.18"
  }
 },
 "nbformat": 4,
 "nbformat_minor": 2
}
