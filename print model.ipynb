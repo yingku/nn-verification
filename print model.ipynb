{
 "cells": [
  {
   "cell_type": "code",
   "execution_count": 1,
   "metadata": {},
   "outputs": [],
   "source": [
    "from numpy.random import seed\n",
    "import pandas as pd\n",
    "import random as rn\n",
    "import os"
   ]
  },
  {
   "cell_type": "code",
   "execution_count": 2,
   "metadata": {},
   "outputs": [
    {
     "name": "stderr",
     "output_type": "stream",
     "text": [
      "Using TensorFlow backend.\n"
     ]
    }
   ],
   "source": [
    "from TL4HDR.data.preProcess import get_one_race, get_n_years, normalize_dataset, standarize_dataset, get_dataset\n",
    "from TL4HDR.data.tcga import read_data\n",
    "from TL4HDR.examples.classify_util import run_mixture_cv, run_one_race_cv, \\\n",
    "    run_supervised_transfer_cv\n",
    "from tensorflow import set_random_seed"
   ]
  },
  {
   "cell_type": "code",
   "execution_count": 3,
   "metadata": {},
   "outputs": [],
   "source": [
    "seed(11111)\n",
    "set_random_seed(11111)\n",
    "os.environ['PYTHONHASHSEED'] = '0'\n",
    "os.environ[\"KERAS_BACKEND\"] = \"tensorflow\"\n",
    "rn.seed(11111)"
   ]
  },
  {
   "cell_type": "code",
   "execution_count": 4,
   "metadata": {},
   "outputs": [],
   "source": [
    "def run_cv(cancer_type, feature_type, target, years=3):\n",
    "\n",
    "    print (cancer_type, feature_type, target, years)\n",
    "    dataset = get_dataset(cancer_type=cancer_type, feature_type=feature_type, target=target, groups=(\"WHITE\", \"BLACK\"))\n",
    "    # dataset = read_data(cancer_type, feature_type[0], target, years)\n",
    "    dataset = standarize_dataset(dataset)\n",
    "    dataset_w = get_one_race(dataset, 'WHITE')\n",
    "    dataset_w = get_n_years(dataset_w, years)\n",
    "    dataset_b = get_one_race(dataset, 'BLACK')\n",
    "    dataset_b = get_n_years(dataset_b, years)\n",
    "\n",
    "    dataset = get_n_years(dataset, years)\n",
    "    k = -1\n",
    "    X, Y, R, y_sub, y_strat = dataset\n",
    "\n",
    "    df = pd.DataFrame(y_strat, columns=['RY'])\n",
    "    df['R'] = R\n",
    "    df['Y'] = Y\n",
    "    print(X.shape)\n",
    "    print(df['RY'].value_counts())\n",
    "    print(df['R'].value_counts())\n",
    "    print(df['Y'].value_counts())\n",
    "\n",
    "\n",
    "    parametrs_mix = {'fold': 3, 'k': k, 'val_size':0.0, 'batch_size':20,'momentum':0.9,\n",
    "                     'learning_rate':0.015, 'lr_decay':0.03, 'dropout':0.5,\n",
    "                     'L1_reg': 0.001, 'L2_reg': 0.001, 'hiddenLayers': [128, 64]}\n",
    "    parametrs_w = {'fold': 3, 'k': k, 'val_size':0.0, 'batch_size':20,\n",
    "                     'learning_rate':0.02, 'lr_decay':0.03, 'dropout':0.5,\n",
    "                     'L1_reg': 0.001, 'L2_reg': 0.001, 'hiddenLayers': [128, 64]}\n",
    "    parametrs_b = {'fold': 3, 'k': k, 'val_size':0.0, 'batch_size':4,\n",
    "                     'learning_rate':0.01, 'lr_decay':0.0, 'dropout':0.5,\n",
    "                     'L1_reg': 0.001, 'L2_reg': 0.001, 'hiddenLayers': [128, 64]}\n",
    "    parametrs_tl_sa = {'fold': 3, 'k': k, 'val_size':0.0, 'batch_size':20,\n",
    "                     'learning_rate':0.005, 'lr_decay':0.0, 'dropout':0.5,\n",
    "                     'L1_reg': 0.001, 'L2_reg': 0.001, 'hiddenLayers': [128, 64]}\n",
    "\n",
    "    res = pd.DataFrame()\n",
    "    for i in range(20):\n",
    "        seed = i\n",
    "        df_m = run_mixture_cv(seed, dataset, **parametrs_mix)\n",
    "        df_w = run_one_race_cv(seed, dataset_w, **parametrs_w)\n",
    "        df_w = df_w.rename(columns={\"Auc\": \"W_ind\"})\n",
    "        df_b = run_one_race_cv(seed, dataset_b, **parametrs_b)\n",
    "        df_b = df_b.rename(columns={\"Auc\": \"B_ind\"})\n",
    "        df_tl = run_unsupervised_transfer_cv(seed, dataset, **parametrs_tl_sa)\n",
    "\n",
    "        df1 = pd.concat([df_m, df_w['W_ind'], df_b['B_ind'], df_tl['TL_Auc']],\n",
    "                        sort=False, axis=1)\n",
    "        print (df1)\n",
    "        res = res.append(df1)\n",
    "\n",
    "    f_name = 'Result/' + cancer_type + '-AA-EA-' + feature_type[0] + '-' + target + '-' + str(years) + 'YR.xlsx'\n",
    "    res.to_excel(f_name)"
   ]
  },
  {
   "cell_type": "code",
   "execution_count": 6,
   "metadata": {},
   "outputs": [],
   "source": [
    "def main():\n",
    "    run_cv('BRCA', 'Protein', 'OS', years=4)"
   ]
  },
  {
   "cell_type": "code",
   "execution_count": 7,
   "metadata": {
    "scrolled": true
   },
   "outputs": [
    {
     "name": "stdout",
     "output_type": "stream",
     "text": [
      "('BRCA', 'Protein', 'OS', 4)\n",
      "(811, 190)\n",
      "(810, 192)\n",
      "(322, 189)\n",
      "1WHITE    216\n",
      "0WHITE     57\n",
      "1BLACK     39\n",
      "0BLACK     10\n",
      "Name: RY, dtype: int64\n",
      "WHITE    273\n",
      "BLACK     49\n",
      "Name: R, dtype: int64\n",
      "1    255\n",
      "0     67\n",
      "Name: Y, dtype: int64\n"
     ]
    },
    {
     "ename": "NameError",
     "evalue": "global name 'run_unsupervised_transfer_cv' is not defined",
     "output_type": "error",
     "traceback": [
      "\u001b[0;31m---------------------------------------------------------------------------\u001b[0m",
      "\u001b[0;31mNameError\u001b[0m                                 Traceback (most recent call last)",
      "\u001b[0;32m<ipython-input-7-c7bc734e5e35>\u001b[0m in \u001b[0;36m<module>\u001b[0;34m()\u001b[0m\n\u001b[1;32m      1\u001b[0m \u001b[0;32mif\u001b[0m \u001b[0m__name__\u001b[0m \u001b[0;34m==\u001b[0m \u001b[0;34m'__main__'\u001b[0m\u001b[0;34m:\u001b[0m\u001b[0;34m\u001b[0m\u001b[0m\n\u001b[0;32m----> 2\u001b[0;31m     \u001b[0mmain\u001b[0m\u001b[0;34m(\u001b[0m\u001b[0;34m)\u001b[0m\u001b[0;34m\u001b[0m\u001b[0m\n\u001b[0m",
      "\u001b[0;32m<ipython-input-6-c0456f9ce95f>\u001b[0m in \u001b[0;36mmain\u001b[0;34m()\u001b[0m\n\u001b[1;32m      1\u001b[0m \u001b[0;32mdef\u001b[0m \u001b[0mmain\u001b[0m\u001b[0;34m(\u001b[0m\u001b[0;34m)\u001b[0m\u001b[0;34m:\u001b[0m\u001b[0;34m\u001b[0m\u001b[0m\n\u001b[0;32m----> 2\u001b[0;31m     \u001b[0mrun_cv\u001b[0m\u001b[0;34m(\u001b[0m\u001b[0;34m'BRCA'\u001b[0m\u001b[0;34m,\u001b[0m \u001b[0;34m'Protein'\u001b[0m\u001b[0;34m,\u001b[0m \u001b[0;34m'OS'\u001b[0m\u001b[0;34m,\u001b[0m \u001b[0myears\u001b[0m\u001b[0;34m=\u001b[0m\u001b[0;36m4\u001b[0m\u001b[0;34m)\u001b[0m\u001b[0;34m\u001b[0m\u001b[0m\n\u001b[0m",
      "\u001b[0;32m<ipython-input-4-64a2e13fcd53>\u001b[0m in \u001b[0;36mrun_cv\u001b[0;34m(cancer_type, feature_type, target, years)\u001b[0m\n\u001b[1;32m     44\u001b[0m         \u001b[0mdf_b\u001b[0m \u001b[0;34m=\u001b[0m \u001b[0mrun_one_race_cv\u001b[0m\u001b[0;34m(\u001b[0m\u001b[0mseed\u001b[0m\u001b[0;34m,\u001b[0m \u001b[0mdataset_b\u001b[0m\u001b[0;34m,\u001b[0m \u001b[0;34m**\u001b[0m\u001b[0mparametrs_b\u001b[0m\u001b[0;34m)\u001b[0m\u001b[0;34m\u001b[0m\u001b[0m\n\u001b[1;32m     45\u001b[0m         \u001b[0mdf_b\u001b[0m \u001b[0;34m=\u001b[0m \u001b[0mdf_b\u001b[0m\u001b[0;34m.\u001b[0m\u001b[0mrename\u001b[0m\u001b[0;34m(\u001b[0m\u001b[0mcolumns\u001b[0m\u001b[0;34m=\u001b[0m\u001b[0;34m{\u001b[0m\u001b[0;34m\"Auc\"\u001b[0m\u001b[0;34m:\u001b[0m \u001b[0;34m\"B_ind\"\u001b[0m\u001b[0;34m}\u001b[0m\u001b[0;34m)\u001b[0m\u001b[0;34m\u001b[0m\u001b[0m\n\u001b[0;32m---> 46\u001b[0;31m         \u001b[0mdf_tl\u001b[0m \u001b[0;34m=\u001b[0m \u001b[0mrun_unsupervised_transfer_cv\u001b[0m\u001b[0;34m(\u001b[0m\u001b[0mseed\u001b[0m\u001b[0;34m,\u001b[0m \u001b[0mdataset\u001b[0m\u001b[0;34m,\u001b[0m \u001b[0;34m**\u001b[0m\u001b[0mparametrs_tl_sa\u001b[0m\u001b[0;34m)\u001b[0m\u001b[0;34m\u001b[0m\u001b[0m\n\u001b[0m\u001b[1;32m     47\u001b[0m \u001b[0;34m\u001b[0m\u001b[0m\n\u001b[1;32m     48\u001b[0m         df1 = pd.concat([df_m, df_w['W_ind'], df_b['B_ind'], df_tl['TL_Auc']],\n",
      "\u001b[0;31mNameError\u001b[0m: global name 'run_unsupervised_transfer_cv' is not defined"
     ]
    }
   ],
   "source": [
    "if __name__ == '__main__':\n",
    "    main()"
   ]
  }
 ],
 "metadata": {
  "kernelspec": {
   "display_name": "Python 2",
   "language": "python",
   "name": "python2"
  },
  "language_info": {
   "codemirror_mode": {
    "name": "ipython",
    "version": 2
   },
   "file_extension": ".py",
   "mimetype": "text/x-python",
   "name": "python",
   "nbconvert_exporter": "python",
   "pygments_lexer": "ipython2",
   "version": "2.7.16"
  }
 },
 "nbformat": 4,
 "nbformat_minor": 2
}
